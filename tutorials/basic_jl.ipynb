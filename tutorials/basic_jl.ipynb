{
 "cells": [
  {
   "cell_type": "markdown",
   "id": "487b4e44-8ec3-4e4f-89da-e73cf79ca1ba",
   "metadata": {},
   "source": [
    "## Use Case\n",
    "\n",
    "This basic tutorial describes a simple use case to highlight how easy it is to create a workflow:\n",
    "\n",
    "* FAANG equities (Facebook, Amazon, Apple, Netflix and Google)\n",
    "* Predict next day return\n",
    "* 3 Walk forward train/test splits\n",
    "* Features based on lagged returns \n",
    "* All model predictions used as inputs\n",
    "* 3rd split used as a stacked classifier"
   ]
  },
  {
   "cell_type": "markdown",
   "id": "ca5cc35b-3d7c-4de0-aba5-a3f9be36aca8",
   "metadata": {
    "tags": []
   },
   "source": [
    "## Import Required Modules"
   ]
  },
  {
   "cell_type": "code",
   "execution_count": 1,
   "id": "bd44ffe3-f88f-41f4-9875-94652bda5a1f",
   "metadata": {},
   "outputs": [],
   "source": [
    "from fml.prices.yahoo_csv import YahooCSV\n",
    "from fml.pipelines.standard import Standard\n",
    "from fml.splits.rolling import Rolling\n",
    "from fml.targets.direction import Direction\n",
    "from fml.features.returns.lagged_returns import LaggedReturns\n",
    "from fml.models.pycaret_blend import PycaretBlend"
   ]
  },
  {
   "cell_type": "markdown",
   "id": "33ce3bb9-eae6-462f-9f86-c27d4cadbf54",
   "metadata": {
    "tags": []
   },
   "source": [
    "## Boiler Plate\n",
    "\n",
    "It is recommended to start with boilerplate code, and simply add the appropriate modules to build your workflow.  The following code \n",
    "\n",
    "```\n",
    "if __name__ == \"__main__\":\n",
    "    tickers = []\n",
    "    pipeline = Standard(\n",
    "        stack=\"\",\n",
    "        split=None,\n",
    "        workflows=[{\n",
    "            \"targets\": [],\n",
    "            \"features\": [],\n",
    "            \"transforms\": [],\n",
    "            \"reduce\": [],\n",
    "            \"models\": [],\n",
    "            \"stack\": {}\n",
    "        }],\n",
    "        algos=[],\n",
    "    )\n",
    "```"
   ]
  },
  {
   "cell_type": "markdown",
   "id": "45c1dc7a-6533-4cd0-8ffe-09ad71a8e789",
   "metadata": {},
   "source": [
    "## Pipeline\n",
    "\n",
    "Add appropriate modules to boilerplate code:\n",
    "\n",
    "* Tickers: List of equities to obtain daily price data\n",
    "* Pipeline: Standard pipeline (only one supported currently)\n",
    "* Stack: Enables model predictions to be used as inputs to descendant models.  \n",
    "* Split: 3 Walk forward train/test splits\n",
    "* Workflow Target: Next day label (1 postive, 0 negative)\n",
    "* Workflow Features: Lagged returns as feature inputs\n",
    "* Workflow Models: Use pycaret AutoML (defaults to Random Forest)\n",
    "* Workflow Stack: Last split uses a decision tree stacking classifier\n",
    "* No algoritmhic signals\n"
   ]
  },
  {
   "cell_type": "code",
   "execution_count": 2,
   "id": "acb93b37-9a93-4ec2-932f-cf71a916ef5e",
   "metadata": {},
   "outputs": [],
   "source": [
    "if __name__ == \"__main__\":\n",
    "    tickers = [\"FB\", \"AMZN\", \"AAPL\", \"NFLX\", \"GOOG\"]\n",
    "    pipeline = Standard(\n",
    "        stack=\"all_mesh\", \n",
    "        split=Rolling(n_splits=3, gap_size=1, expanding_window=False),\n",
    "        workflows=[{\n",
    "            \"targets\": [\n",
    "                Direction(), \n",
    "            ],\n",
    "            \"features\": [\n",
    "                LaggedReturns(), \n",
    "            ],\n",
    "            \"transforms\": [], \n",
    "            \"reduce\": [], \n",
    "            \"models\": [\n",
    "                PycaretBlend(), \n",
    "            ],\n",
    "            \"stack\": {  \n",
    "                \"target\": Direction(),\n",
    "                \"model\": PycaretBlend(classification_models=['dt']),\n",
    "            }\n",
    "        }],\n",
    "        algos=[], \n",
    "    )"
   ]
  },
  {
   "cell_type": "markdown",
   "id": "981f1ef6-56a9-48f2-a2f0-0f464e45427f",
   "metadata": {
    "tags": []
   },
   "source": [
    "## Fit and Predict\n",
    "\n",
    "FML handles splitting the data, labeling each observation, generating the features for each of the 3 models and the plumbing of stacking the models:"
   ]
  },
  {
   "cell_type": "code",
   "execution_count": 3,
   "id": "8ca9b5e2-c58f-4ae1-9865-25cff808da36",
   "metadata": {},
   "outputs": [
    {
     "name": "stderr",
     "output_type": "stream",
     "text": [
      "2022-06-07 13:49:11.311 | INFO     | fml.pipelines.standard:fit:23 - Starting Standard workflow\n",
      "2022-06-07 13:49:11.324 | INFO     | fml.prices.yahoo_csv:prices:89 - Prices: Begin import process\n",
      "2022-06-07 13:49:11.325 | INFO     | fml.prices.yahoo_csv:get_data:41 - Importing price data: FB\n",
      "2022-06-07 13:49:11.351 | INFO     | fml.prices.yahoo_csv:get_data:41 - Importing price data: AMZN\n",
      "2022-06-07 13:49:11.374 | INFO     | fml.prices.yahoo_csv:get_data:41 - Importing price data: AAPL\n",
      "2022-06-07 13:49:11.402 | INFO     | fml.prices.yahoo_csv:get_data:41 - Importing price data: NFLX\n",
      "2022-06-07 13:49:11.424 | INFO     | fml.prices.yahoo_csv:get_data:41 - Importing price data: GOOG\n",
      "2022-06-07 13:49:12.156 | INFO     | fml.pipelines.standard:fit:88 - Target: Direction\n",
      "2022-06-07 13:49:12.166 | INFO     | fml.targets.direction:transform:24 - Forward return\n",
      "2022-06-07 13:49:12.191 | INFO     | fml.utils:features_fit_transform:132 - Feature: LaggedReturns\n",
      "2022-06-07 13:49:12.234 | INFO     | fml.features.returns.lagged_returns:fit:17 - Fit: Lagged Returns\n",
      "2022-06-07 13:49:12.251 | INFO     | fml.features.returns.lagged_returns:transform:21 - Transform: Lagged Returns\n",
      "2022-06-07 13:49:12.408 | INFO     | fml.models.pycaret_blend:fit:43 - Pycaret fit\n"
     ]
    },
    {
     "data": {
      "text/html": [
       "<style type=\"text/css\">\n",
       "</style>\n",
       "<table id=\"T_4022a_\">\n",
       "  <thead>\n",
       "    <tr>\n",
       "      <th class=\"blank level0\" >&nbsp;</th>\n",
       "      <th class=\"col_heading level0 col0\" >Model</th>\n",
       "      <th class=\"col_heading level0 col1\" >Accuracy</th>\n",
       "      <th class=\"col_heading level0 col2\" >AUC</th>\n",
       "      <th class=\"col_heading level0 col3\" >Recall</th>\n",
       "      <th class=\"col_heading level0 col4\" >Prec.</th>\n",
       "      <th class=\"col_heading level0 col5\" >F1</th>\n",
       "      <th class=\"col_heading level0 col6\" >Kappa</th>\n",
       "      <th class=\"col_heading level0 col7\" >MCC</th>\n",
       "    </tr>\n",
       "  </thead>\n",
       "  <tbody>\n",
       "    <tr>\n",
       "      <th id=\"T_4022a_level0_row0\" class=\"row_heading level0 row0\" >0</th>\n",
       "      <td id=\"T_4022a_row0_col0\" class=\"data row0 col0\" >Voting Classifier</td>\n",
       "      <td id=\"T_4022a_row0_col1\" class=\"data row0 col1\" >0.5494</td>\n",
       "      <td id=\"T_4022a_row0_col2\" class=\"data row0 col2\" >0.5627</td>\n",
       "      <td id=\"T_4022a_row0_col3\" class=\"data row0 col3\" >0.5617</td>\n",
       "      <td id=\"T_4022a_row0_col4\" class=\"data row0 col4\" >0.5934</td>\n",
       "      <td id=\"T_4022a_row0_col5\" class=\"data row0 col5\" >0.5771</td>\n",
       "      <td id=\"T_4022a_row0_col6\" class=\"data row0 col6\" >0.0957</td>\n",
       "      <td id=\"T_4022a_row0_col7\" class=\"data row0 col7\" >0.0958</td>\n",
       "    </tr>\n",
       "  </tbody>\n",
       "</table>\n"
      ],
      "text/plain": [
       "<pandas.io.formats.style.Styler at 0x22d95dc04c0>"
      ]
     },
     "metadata": {},
     "output_type": "display_data"
    },
    {
     "name": "stderr",
     "output_type": "stream",
     "text": [
      "2022-06-07 13:49:26.584 | INFO     | fml.features.returns.lagged_returns:transform:21 - Transform: Lagged Returns\n",
      "2022-06-07 13:49:26.780 | INFO     | fml.models.pycaret_blend:predict:107 - Pycaret predict\n",
      "2022-06-07 13:49:27.522 | INFO     | fml.pipelines.standard:fit:88 - Target: Direction\n",
      "2022-06-07 13:49:27.528 | INFO     | fml.targets.direction:transform:24 - Forward return\n",
      "2022-06-07 13:49:27.550 | INFO     | fml.utils:features_fit_transform:132 - Feature: LaggedReturns\n",
      "2022-06-07 13:49:27.587 | INFO     | fml.features.returns.lagged_returns:fit:17 - Fit: Lagged Returns\n",
      "2022-06-07 13:49:27.607 | INFO     | fml.features.returns.lagged_returns:transform:21 - Transform: Lagged Returns\n",
      "2022-06-07 13:49:27.787 | INFO     | fml.models.pycaret_blend:fit:43 - Pycaret fit\n"
     ]
    },
    {
     "data": {
      "text/html": [
       "<style type=\"text/css\">\n",
       "</style>\n",
       "<table id=\"T_99d99_\">\n",
       "  <thead>\n",
       "    <tr>\n",
       "      <th class=\"blank level0\" >&nbsp;</th>\n",
       "      <th class=\"col_heading level0 col0\" >Model</th>\n",
       "      <th class=\"col_heading level0 col1\" >Accuracy</th>\n",
       "      <th class=\"col_heading level0 col2\" >AUC</th>\n",
       "      <th class=\"col_heading level0 col3\" >Recall</th>\n",
       "      <th class=\"col_heading level0 col4\" >Prec.</th>\n",
       "      <th class=\"col_heading level0 col5\" >F1</th>\n",
       "      <th class=\"col_heading level0 col6\" >Kappa</th>\n",
       "      <th class=\"col_heading level0 col7\" >MCC</th>\n",
       "    </tr>\n",
       "  </thead>\n",
       "  <tbody>\n",
       "    <tr>\n",
       "      <th id=\"T_99d99_level0_row0\" class=\"row_heading level0 row0\" >0</th>\n",
       "      <td id=\"T_99d99_row0_col0\" class=\"data row0 col0\" >Voting Classifier</td>\n",
       "      <td id=\"T_99d99_row0_col1\" class=\"data row0 col1\" >0.5317</td>\n",
       "      <td id=\"T_99d99_row0_col2\" class=\"data row0 col2\" >0.5262</td>\n",
       "      <td id=\"T_99d99_row0_col3\" class=\"data row0 col3\" >0.6969</td>\n",
       "      <td id=\"T_99d99_row0_col4\" class=\"data row0 col4\" >0.5560</td>\n",
       "      <td id=\"T_99d99_row0_col5\" class=\"data row0 col5\" >0.6185</td>\n",
       "      <td id=\"T_99d99_row0_col6\" class=\"data row0 col6\" >0.0317</td>\n",
       "      <td id=\"T_99d99_row0_col7\" class=\"data row0 col7\" >0.0331</td>\n",
       "    </tr>\n",
       "  </tbody>\n",
       "</table>\n"
      ],
      "text/plain": [
       "<pandas.io.formats.style.Styler at 0x22d95da7e20>"
      ]
     },
     "metadata": {},
     "output_type": "display_data"
    },
    {
     "name": "stderr",
     "output_type": "stream",
     "text": [
      "2022-06-07 13:49:36.140 | INFO     | fml.features.returns.lagged_returns:transform:21 - Transform: Lagged Returns\n",
      "2022-06-07 13:49:36.329 | INFO     | fml.models.pycaret_blend:predict:107 - Pycaret predict\n",
      "2022-06-07 13:49:37.108 | INFO     | fml.pipelines.standard:fit:88 - Target: Direction\n",
      "2022-06-07 13:49:37.117 | INFO     | fml.targets.direction:transform:24 - Forward return\n",
      "2022-06-07 13:49:37.139 | INFO     | fml.utils:features_fit_transform:132 - Feature: LaggedReturns\n",
      "2022-06-07 13:49:37.177 | INFO     | fml.features.returns.lagged_returns:fit:17 - Fit: Lagged Returns\n",
      "2022-06-07 13:49:37.193 | INFO     | fml.features.returns.lagged_returns:transform:21 - Transform: Lagged Returns\n",
      "2022-06-07 13:49:37.372 | INFO     | fml.models.pycaret_blend:fit:43 - Pycaret fit\n"
     ]
    },
    {
     "data": {
      "text/html": [
       "<style type=\"text/css\">\n",
       "</style>\n",
       "<table id=\"T_c2786_\">\n",
       "  <thead>\n",
       "    <tr>\n",
       "      <th class=\"blank level0\" >&nbsp;</th>\n",
       "      <th class=\"col_heading level0 col0\" >Model</th>\n",
       "      <th class=\"col_heading level0 col1\" >Accuracy</th>\n",
       "      <th class=\"col_heading level0 col2\" >AUC</th>\n",
       "      <th class=\"col_heading level0 col3\" >Recall</th>\n",
       "      <th class=\"col_heading level0 col4\" >Prec.</th>\n",
       "      <th class=\"col_heading level0 col5\" >F1</th>\n",
       "      <th class=\"col_heading level0 col6\" >Kappa</th>\n",
       "      <th class=\"col_heading level0 col7\" >MCC</th>\n",
       "    </tr>\n",
       "  </thead>\n",
       "  <tbody>\n",
       "    <tr>\n",
       "      <th id=\"T_c2786_level0_row0\" class=\"row_heading level0 row0\" >0</th>\n",
       "      <td id=\"T_c2786_row0_col0\" class=\"data row0 col0\" >Voting Classifier</td>\n",
       "      <td id=\"T_c2786_row0_col1\" class=\"data row0 col1\" >0.4965</td>\n",
       "      <td id=\"T_c2786_row0_col2\" class=\"data row0 col2\" >0.4960</td>\n",
       "      <td id=\"T_c2786_row0_col3\" class=\"data row0 col3\" >0.5078</td>\n",
       "      <td id=\"T_c2786_row0_col4\" class=\"data row0 col4\" >0.5168</td>\n",
       "      <td id=\"T_c2786_row0_col5\" class=\"data row0 col5\" >0.5123</td>\n",
       "      <td id=\"T_c2786_row0_col6\" class=\"data row0 col6\" >-0.0081</td>\n",
       "      <td id=\"T_c2786_row0_col7\" class=\"data row0 col7\" >-0.0081</td>\n",
       "    </tr>\n",
       "  </tbody>\n",
       "</table>\n"
      ],
      "text/plain": [
       "<pandas.io.formats.style.Styler at 0x22d95d9d6d0>"
      ]
     },
     "metadata": {},
     "output_type": "display_data"
    },
    {
     "name": "stderr",
     "output_type": "stream",
     "text": [
      "2022-06-07 13:49:39.907 | INFO     | fml.features.returns.lagged_returns:transform:21 - Transform: Lagged Returns\n",
      "2022-06-07 13:49:39.986 | INFO     | fml.models.pycaret_blend:predict:107 - Pycaret predict\n"
     ]
    },
    {
     "data": {
      "text/markdown": [
       "Report saved to ./rpt.html. To upload and share your report, create a free Datapane account by running `!datapane signup`."
      ],
      "text/plain": [
       "<IPython.core.display.Markdown object>"
      ]
     },
     "metadata": {},
     "output_type": "display_data"
    },
    {
     "name": "stderr",
     "output_type": "stream",
     "text": [
      "2022-06-07 13:49:41.061 | INFO     | fml.prices.yahoo_csv:prices:89 - Prices: Begin import process\n",
      "2022-06-07 13:49:41.062 | INFO     | fml.prices.yahoo_csv:get_data:41 - Importing price data: FB\n",
      "2022-06-07 13:49:41.081 | INFO     | fml.prices.yahoo_csv:get_data:41 - Importing price data: AMZN\n",
      "2022-06-07 13:49:41.110 | INFO     | fml.prices.yahoo_csv:get_data:41 - Importing price data: AAPL\n",
      "2022-06-07 13:49:41.150 | INFO     | fml.prices.yahoo_csv:get_data:41 - Importing price data: NFLX\n",
      "2022-06-07 13:49:41.189 | INFO     | fml.prices.yahoo_csv:get_data:41 - Importing price data: GOOG\n",
      "2022-06-07 13:49:41.244 | INFO     | fml.features.returns.lagged_returns:transform:21 - Transform: Lagged Returns\n",
      "2022-06-07 13:49:41.439 | INFO     | fml.models.pycaret_blend:predict:107 - Pycaret predict\n",
      "2022-06-07 13:49:42.340 | INFO     | fml.models.pycaret_blend:predict:107 - Pycaret predict\n",
      "2022-06-07 13:49:43.183 | INFO     | fml.models.pycaret_blend:predict:107 - Pycaret predict\n"
     ]
    }
   ],
   "source": [
    "# Fit\n",
    "prices = YahooCSV(tickers=tickers, frequency=['daily'], start_date='2014-01-01', end_date='2020-01-01', look_back=200)\n",
    "pipeline = pipeline.fit(prices)\n",
    "\n",
    "# Predict\n",
    "prices = YahooCSV(tickers=tickers, frequency=['daily'], start_date='2020-01-02', look_back=200)\n",
    "predictions = pipeline.transform(prices)"
   ]
  },
  {
   "cell_type": "code",
   "execution_count": null,
   "id": "927b21a4-49cc-4d08-894d-c21ba5340296",
   "metadata": {},
   "outputs": [],
   "source": []
  },
  {
   "cell_type": "code",
   "execution_count": null,
   "id": "25207ac1-5caf-4673-9539-9e511c4ae957",
   "metadata": {},
   "outputs": [],
   "source": []
  },
  {
   "cell_type": "code",
   "execution_count": null,
   "id": "efc69a17-33d7-4b10-948a-9dc9246f4cf8",
   "metadata": {},
   "outputs": [],
   "source": []
  }
 ],
 "metadata": {
  "kernelspec": {
   "display_name": "Python [conda env:fml] *",
   "language": "python",
   "name": "conda-env-fml-py"
  },
  "language_info": {
   "codemirror_mode": {
    "name": "ipython",
    "version": 3
   },
   "file_extension": ".py",
   "mimetype": "text/x-python",
   "name": "python",
   "nbconvert_exporter": "python",
   "pygments_lexer": "ipython3",
   "version": "3.8.13"
  }
 },
 "nbformat": 4,
 "nbformat_minor": 5
}
